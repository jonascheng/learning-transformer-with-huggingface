{
 "cells": [
  {
   "cell_type": "markdown",
   "metadata": {},
   "source": [
    "# Hugging Face 初體驗\n",
    "\n",
    "[Hugging Face](https://huggingface.co/) 是一個專注於機器學習和自然語言處理的開源平台。它提供了大量的模型、數據集和工具，支持多種任務如文本生成、圖像分類和語音識別。用戶可以輕鬆地搜索、下載和使用這些資源來開發和部署AI應用。這個平台對研究人員和開發者來說非常有用，因為它促進了技術共享和協作。\n",
    "\n",
    "平台提供各類開源模型及資料集，也針對不同型態的[任務](https://huggingface.co/tasks)進行分類，便於查找使用．\n",
    "\n",
    "![Hugging Face](https://raw.githubusercontent.com/jonascheng/learning-transformer-with-huggingface/refs/heads/main/assets/images/huggingface.png)"
   ]
  },
  {
   "cell_type": "markdown",
   "metadata": {},
   "source": [
    "我們來體驗幾個簡單的任務\n",
    "\n",
    "## [Token Classification](https://huggingface.co/tasks/token-classification)\n",
    "\n",
    "Token classification 是自然語言處理中的一種任務，旨在對文本中的每個 token（通常是單詞或子詞）進行分類。這種技術可以用來解決多種問題，以下是幾個例子：\n",
    "\n",
    "* 命名實體識別（NER）：識別文本中的人名、地名、組織名等實體。例如，從句子「John is working in New York」中識別出「John」是人名，「New York」是地名。\n",
    "* 詞性標註（POS tagging）：標註每個單詞的詞性，如名詞、動詞、形容詞等。例如，從句子「The quick brown fox jumps over the lazy dog」中標註出「quick」是形容詞，「jumps」是動詞。\n"
   ]
  },
  {
   "cell_type": "code",
   "execution_count": null,
   "metadata": {
    "vscode": {
     "languageId": "shellscript"
    }
   },
   "outputs": [],
   "source": [
    "# transformers not support NumPy 2.0 yet\n",
    "!pip install -q numpy~=1.26.4 torch~=2.2.2 transformers~=4.46.2 accelerate~=1.1.1\n",
    "# for facebook/mask2former-swin-small-coco-instance\n",
    "!pip install -q scipy~=1.14.1 pillow~=11.0.0"
   ]
  },
  {
   "cell_type": "code",
   "execution_count": null,
   "metadata": {},
   "outputs": [],
   "source": [
    "import torch\n",
    "\n",
    "# 檢查是否有 GPU 可以使用\n",
    "device = torch.device(\"cuda\" if torch.cuda.is_available() else \"cpu\")\n",
    "device = torch.device(\"mps\" if torch.backends.mps.is_available() else device)"
   ]
  },
  {
   "cell_type": "code",
   "execution_count": null,
   "metadata": {},
   "outputs": [],
   "source": [
    "from transformers import pipeline\n",
    "\n",
    "# 命名實體識別（NER）, 讓 pipeline 自動選擇模型\n",
    "ner_classifier = pipeline(\n",
    "  task=\"ner\",\n",
    "  device=device,)\n",
    "ner_classifier(\"John is working in New York\")"
   ]
  },
  {
   "cell_type": "markdown",
   "metadata": {},
   "source": [
    "從回傳的結構化資料，我們可以看到每個 token 的 `word` 和 `entity`，這裡的 `entity` 是指該 token 的分類結果。\n",
    "\n",
    "```json\n",
    "[{'entity': 'I-PER',\n",
    "  'word': 'John'},\n",
    " {'entity': 'I-LOC',\n",
    "  'word': 'New'},\n",
    " {'entity': 'I-LOC',\n",
    "  'word': 'York',}]\n",
    "```"
   ]
  },
  {
   "cell_type": "code",
   "execution_count": null,
   "metadata": {},
   "outputs": [],
   "source": [
    "# 詞性標註（POS tagging）, 指定模型\n",
    "model = \"vblagoje/bert-english-uncased-finetuned-pos\"\n",
    "pos_classifier = pipeline(\n",
    "  task=\"token-classification\",\n",
    "  model=model,\n",
    "  device=device,)\n",
    "pos_classifier(\"The quick brown fox jumps over the lazy dog\")"
   ]
  },
  {
   "cell_type": "markdown",
   "metadata": {},
   "source": [
    "## [Zero-Shot Classification](https://huggingface.co/tasks/zero-shot-classification)\n",
    "\n",
    "Zero-Shot Classification 旨在不需要特定訓練數據的情況下，對文本進行分類。這意味著模型可以在沒有見過特定類別的訓練樣本的情況下，直接對新類別進行分類。這種技術依賴於預訓練模型的強大語言理解能力。以下是幾個可以透過 Zero-Shot Classification 解決的例子：\n",
    "\n",
    "* 情感分析：在沒有特定情感標註數據的情況下，對文本進行正面、負面或中性情感分類。例如，對一條新的社交媒體評論進行情感分類。\n",
    "* 主題分類：對新聞文章進行主題分類，如政治、經濟、科技等，而不需要針對每個主題進行單獨訓練。例如，將一篇新的新聞文章分類為「科技」。\n",
    "\n",
    "Zero-Shot Classification 的優勢在於其靈活性和廣泛應用，特別是在缺乏標註數據的情況下。\n"
   ]
  },
  {
   "cell_type": "code",
   "execution_count": null,
   "metadata": {},
   "outputs": [],
   "source": [
    "from transformers import pipeline\n",
    "\n",
    "model = \"facebook/bart-large-mnli\"\n",
    "pipe = pipeline(\n",
    "  task=\"zero-shot-classification\",\n",
    "  model=model,\n",
    "  device=device,)\n",
    "pipe(\"I have a problem with my iphone that needs to be resolved asap!\",\n",
    "    candidate_labels=[\"urgent\", \"not urgent\", \"phone\", \"tablet\", \"computer\"],\n",
    ")"
   ]
  },
  {
   "cell_type": "markdown",
   "metadata": {},
   "source": [
    "從回傳的結構化資料，我們可以知道這是一個關於 `phone` 且 `urgent` 的用戶反饋。"
   ]
  },
  {
   "cell_type": "markdown",
   "metadata": {},
   "source": [
    "## Image Classification\n",
    "\n",
    "Transformer 架構不僅適用於自然語言處理，也可以應用於圖像處理。這裡我們使用一個預訓練的圖像分類模型來識別圖像中的物體。\n",
    "\n",
    "![貓](https://live.staticflickr.com/5670/30942263876_969b93e461_b.jpg)\n",
    "\n",
    "來源: https://live.staticflickr.com/5670/30942263876_969b93e461_b.jpg"
   ]
  },
  {
   "cell_type": "code",
   "execution_count": null,
   "metadata": {},
   "outputs": [],
   "source": [
    "from transformers import pipeline\n",
    "\n",
    "model = \"google/vit-base-patch16-224\"\n",
    "pipe = pipeline(\n",
    "  task=\"image-classification\",\n",
    "  model=model,\n",
    "  device=device,)\n",
    "pipe(\"https://live.staticflickr.com/5670/30942263876_969b93e461_b.jpg\")\n"
   ]
  },
  {
   "cell_type": "markdown",
   "metadata": {},
   "source": [
    "Transformer 架構還可以應用於圖像分割任務。"
   ]
  },
  {
   "cell_type": "code",
   "execution_count": null,
   "metadata": {},
   "outputs": [],
   "source": [
    "from transformers import ViTForImageClassification\n",
    "from pprint import pprint\n",
    "\n",
    "model = ViTForImageClassification.from_pretrained('google/vit-base-patch16-224')\n",
    "\n",
    "pprint(model)"
   ]
  },
  {
   "cell_type": "markdown",
   "metadata": {},
   "source": [
    "## Image Segmentation\n",
    "\n",
    "圖像分割是一種圖像處理任務，旨在將圖像中的每個像素分配給特定的類別。這種技術可以應用於多種場景，如醫學影像分析、自然災害檢測和智能交通等。\n",
    "\n",
    "![行人遛狗](https://images.pexels.com/photos/5748630/pexels-photo-5748630.jpeg)\n",
    "\n",
    "來源: https://images.pexels.com/photos/5748630/pexels-photo-5748630.jpeg"
   ]
  },
  {
   "cell_type": "code",
   "execution_count": null,
   "metadata": {},
   "outputs": [],
   "source": [
    "from transformers import pipeline\n",
    "\n",
    "model = \"facebook/mask2former-swin-small-coco-instance\"\n",
    "pipe = pipeline(\n",
    "  task=\"image-segmentation\",\n",
    "  model=model,\n",
    "  device=device,)\n",
    "pipe(\"https://images.pexels.com/photos/5748630/pexels-photo-5748630.jpeg\")\n"
   ]
  }
 ],
 "metadata": {
  "kernelspec": {
   "display_name": "Python 3 (ipykernel)",
   "language": "python",
   "name": "python3"
  },
  "language_info": {
   "codemirror_mode": {
    "name": "ipython",
    "version": 3
   },
   "file_extension": ".py",
   "mimetype": "text/x-python",
   "name": "python",
   "nbconvert_exporter": "python",
   "pygments_lexer": "ipython3",
   "version": "3.11.4"
  }
 },
 "nbformat": 4,
 "nbformat_minor": 2
}
