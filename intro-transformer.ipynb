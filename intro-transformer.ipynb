{
 "cells": [
  {
   "cell_type": "code",
   "execution_count": 33,
   "metadata": {
    "vscode": {
     "languageId": "shellscript"
    }
   },
   "outputs": [
    {
     "name": "stderr",
     "output_type": "stream",
     "text": [
      "huggingface/tokenizers: The current process just got forked, after parallelism has already been used. Disabling parallelism to avoid deadlocks...\n",
      "To disable this warning, you can either:\n",
      "\t- Avoid using `tokenizers` before the fork if possible\n",
      "\t- Explicitly set the environment variable TOKENIZERS_PARALLELISM=(true | false)\n"
     ]
    }
   ],
   "source": [
    "# transformers not support NumPy 2.0 yet\n",
    "!pip install -q numpy~=1.26.4 transformers~=4.46.2"
   ]
  },
  {
   "cell_type": "markdown",
   "metadata": {},
   "source": [
    "# Transformer 深入淺出\n",
    "\n",
    "Google Research 和 Google Brain 的成員最初在 2017 年的論文《[Attention is all you need](https://arxiv.org/abs/1706.03762?context=cs)》中提出了 Transformer。目前是 NLP 中最受歡迎的架構之一。\n",
    "\n",
    "Transformer 由 Encoder 和 Decoder 两部分组成，Encoder 接受 **输入** 然後生成 **向量** 表示這個输入，Decoder 接受 **向量** 然後逐一生成 **输出**。\n",
    "\n",
    "![transformer in a nutshell](https://www.alexisalulema.com/wp-content/uploads/2022/08/encoder-decoder-1-1024x275.png)\n",
    "\n",
    "Transformer 超越了基於 LSTM 和 RNN 的其他現有架構，獲得了更高評價和更快的訓練速度。Transformer 的注意力機制是一種「word-to-word」的操作，它會找出序列中每個詞與其他詞之間的關係，包括詞本身。\n",
    "\n",
    "![Original Transformer Architecture, Source: Attention is all you need](https://www.alexisalulema.com/wp-content/uploads/2022/08/image-695x1024.png)\n",
    "\n",
    "在本文中，我將以最簡單的方式解釋 Transformer 的架構和內部運作。"
   ]
  },
  {
   "cell_type": "markdown",
   "metadata": {},
   "source": [
    "## 認識分詞器 (Tokenizer)\n",
    "\n",
    "分詞器負責為模型準備輸入。大多數分詞器有兩種版本：完整的 Python 實現和基於 Rust 庫的“快速”實現。“快速”實現具有以下優點：\n",
    "\n",
    "1. 特別是在批量分詞時顯著加速；\n",
    "\n",
    "2. 提供額外的方法在原始字符串（字符和單詞）和標記空間之間進行映射（例如，獲取包含給定字符的標記索引或對應於給定標記的字符範圍）。\n",
    "\n",
    "後面的課程會利用到這兩項優點，暫時無須深入了解。\n",
    "\n",
    "分詞器 (Tokenizer) 通過將文本正規化來將輸入轉換為 token；此外，它還會提供一個整數表示（基於現有詞彙），該表示將用於 Embedding 過程。例如："
   ]
  },
  {
   "cell_type": "code",
   "execution_count": 34,
   "metadata": {},
   "outputs": [],
   "source": [
    "# 載入 BERT tokenizer\n",
    "from transformers import AutoTokenizer\n",
    "from pprint import pprint\n",
    "\n",
    "model_name = \"google-bert/bert-base-uncased\"\n",
    "tokenizer = AutoTokenizer.from_pretrained(model_name)"
   ]
  },
  {
   "cell_type": "markdown",
   "metadata": {},
   "source": [
    "Tokenizater 包含以下重要資訊\n",
    "\n",
    "* `vocab_size`：詞彙表的大小\n",
    "\n",
    "* `model_max_length`：輸入到模型的最大標記數\n",
    "\n",
    "* 特殊的 token，如\n",
    "\n",
    "  * 0: [PAD]\n",
    "  * 100: [UNK]\n",
    "  * 101: [CLS]\n",
    "  * 102: [SEP]\n",
    "  * 103: [MASK]\n"
   ]
  },
  {
   "cell_type": "code",
   "execution_count": 35,
   "metadata": {},
   "outputs": [
    {
     "data": {
      "text/plain": [
       "BertTokenizerFast(name_or_path='google-bert/bert-base-uncased', vocab_size=30522, model_max_length=512, is_fast=True, padding_side='right', truncation_side='right', special_tokens={'unk_token': '[UNK]', 'sep_token': '[SEP]', 'pad_token': '[PAD]', 'cls_token': '[CLS]', 'mask_token': '[MASK]'}, clean_up_tokenization_spaces=False),  added_tokens_decoder={\n",
       "\t0: AddedToken(\"[PAD]\", rstrip=False, lstrip=False, single_word=False, normalized=False, special=True),\n",
       "\t100: AddedToken(\"[UNK]\", rstrip=False, lstrip=False, single_word=False, normalized=False, special=True),\n",
       "\t101: AddedToken(\"[CLS]\", rstrip=False, lstrip=False, single_word=False, normalized=False, special=True),\n",
       "\t102: AddedToken(\"[SEP]\", rstrip=False, lstrip=False, single_word=False, normalized=False, special=True),\n",
       "\t103: AddedToken(\"[MASK]\", rstrip=False, lstrip=False, single_word=False, normalized=False, special=True),\n",
       "}"
      ]
     },
     "execution_count": 35,
     "metadata": {},
     "output_type": "execute_result"
    }
   ],
   "source": [
    "# vocab_szie: 30522\n",
    "# model_max_length: 512\n",
    "tokenizer"
   ]
  },
  {
   "cell_type": "markdown",
   "metadata": {},
   "source": [
    "### 字典 (Vocabulary)\n",
    "\n",
    "顯示部分字典內容，從第 1000 個詞開始到 1010 個詞："
   ]
  },
  {
   "cell_type": "code",
   "execution_count": 36,
   "metadata": {},
   "outputs": [
    {
     "name": "stdout",
     "output_type": "stream",
     "text": [
      "['##port', 'hacked', '##ə', 'outgoing', 'autonomy', 'fk', 'parker', '##ikh',\n",
      " 'cristina', 'pascal']\n"
     ]
    }
   ],
   "source": [
    "# 顯示挑選的 10 個字\n",
    "pprint(list(tokenizer.vocab.keys())[1000:1010], compact=True)"
   ]
  },
  {
   "cell_type": "markdown",
   "metadata": {},
   "source": [
    "### 標記 (Token)\n",
    "\n",
    "標記是分詞器的輸出，它是一個整數，代表字典中的一個詞。標記是模型的輸入。"
   ]
  },
  {
   "cell_type": "code",
   "execution_count": 37,
   "metadata": {},
   "outputs": [
    {
     "name": "stdout",
     "output_type": "stream",
     "text": [
      "{'attention_mask': tensor([[1, 1, 1, 1, 1, 1, 1, 1, 1, 1, 1, 1, 1, 1, 1],\n",
      "        [1, 1, 1, 1, 1, 1, 1, 1, 0, 0, 0, 0, 0, 0, 0]]),\n",
      " 'input_ids': tensor([[ 101, 1045, 1005, 2310, 2042, 3403, 2005, 1037, 2023, 2607, 2026, 2878,\n",
      "         2166, 1012,  102],\n",
      "        [ 101, 1045, 5223, 2023, 2061, 2172,  999,  102,    0,    0,    0,    0,\n",
      "            0,    0,    0]]),\n",
      " 'token_type_ids': tensor([[0, 0, 0, 0, 0, 0, 0, 0, 0, 0, 0, 0, 0, 0, 0],\n",
      "        [0, 0, 0, 0, 0, 0, 0, 0, 0, 0, 0, 0, 0, 0, 0]])}\n"
     ]
    }
   ],
   "source": [
    "raw_inputs = [\n",
    "    \"I've been waiting for a this course my whole life.\",\n",
    "    \"I hate this so much!\",\n",
    "]\n",
    "# 將原始文字轉換成標記\n",
    "inputs = tokenizer(\n",
    "  raw_inputs,\n",
    "  padding=True,         # Activates and controls padding\n",
    "  truncation=True,      # Activates and controls truncation\n",
    "  return_tensors=\"pt\",  # Return PyTorch tensor objects\n",
    ")\n",
    "\n",
    "pprint(inputs)\n"
   ]
  },
  {
   "cell_type": "markdown",
   "metadata": {},
   "source": [
    "1. 第二句子長度不夠，所以會被補上 [PAD] token\n",
    "2. Attention mask 會標記出哪些是 padding 的 token\n",
    "\n",
    "我們也可以將標記轉換回原始文本，這樣我們就可以看到模型的輸入是什麼樣子的。"
   ]
  },
  {
   "cell_type": "code",
   "execution_count": 38,
   "metadata": {},
   "outputs": [
    {
     "data": {
      "text/plain": [
       "\"[CLS] i ' ve been waiting for a this course my whole life. [SEP]\""
      ]
     },
     "execution_count": 38,
     "metadata": {},
     "output_type": "execute_result"
    }
   ],
   "source": [
    "tokenizer.decode(inputs[\"input_ids\"][0])"
   ]
  },
  {
   "cell_type": "code",
   "execution_count": 39,
   "metadata": {},
   "outputs": [
    {
     "data": {
      "text/plain": [
       "'[CLS] i hate this so much! [SEP] [PAD] [PAD] [PAD] [PAD] [PAD] [PAD] [PAD]'"
      ]
     },
     "execution_count": 39,
     "metadata": {},
     "output_type": "execute_result"
    }
   ],
   "source": [
    "tokenizer.decode(inputs[\"input_ids\"][1])"
   ]
  },
  {
   "cell_type": "markdown",
   "metadata": {},
   "source": [
    "### 多語分詞器 (Multilingual Tokenizer)\n",
    "\n",
    "如果將此模型應用在中文文本上，會發生什麼狀況呢？"
   ]
  },
  {
   "cell_type": "code",
   "execution_count": 40,
   "metadata": {},
   "outputs": [
    {
     "data": {
      "text/plain": [
       "'[CLS] [UNK] [UNK] [UNK] [UNK] [UNK] [UNK] [UNK] [UNK] [UNK] ？ [SEP] [PAD] [PAD] [PAD] [PAD] [PAD] [PAD] [PAD] [PAD]'"
      ]
     },
     "execution_count": 40,
     "metadata": {},
     "output_type": "execute_result"
    }
   ],
   "source": [
    "raw_inputs = [\n",
    "    \"我門正在學習目前正夯的變形金剛模型！\",\n",
    "    \"你們喜歡這個課程嗎？\"\n",
    "]\n",
    "# 將原始文字轉換成標記\n",
    "inputs = tokenizer(\n",
    "  raw_inputs,\n",
    "  padding=True,         # Activates and controls padding\n",
    "  truncation=True,      # Activates and controls truncation\n",
    "  return_tensors=\"pt\",  # Return PyTorch tensor objects\n",
    "  )\n",
    "# 將標記轉換回文字\n",
    "tokenizer.decode(inputs[\"input_ids\"][1])"
   ]
  },
  {
   "cell_type": "markdown",
   "metadata": {},
   "source": [
    "由於 Tokenizer 是基於英文訓練的，所以它無法正確處理中文文本。這是因為中文文本的分詞方式與英文不同。因此，我們需要使用中文分詞器來處理中文文本。"
   ]
  },
  {
   "cell_type": "code",
   "execution_count": 41,
   "metadata": {},
   "outputs": [],
   "source": [
    "# 載入 Multilingual BERT tokenizer\n",
    "model_name = \"google-bert/bert-base-multilingual-uncased\"\n",
    "multilingual_tokenizer = AutoTokenizer.from_pretrained(model_name)"
   ]
  },
  {
   "cell_type": "code",
   "execution_count": 42,
   "metadata": {},
   "outputs": [
    {
     "data": {
      "text/plain": [
       "BertTokenizerFast(name_or_path='google-bert/bert-base-multilingual-uncased', vocab_size=105879, model_max_length=512, is_fast=True, padding_side='right', truncation_side='right', special_tokens={'unk_token': '[UNK]', 'sep_token': '[SEP]', 'pad_token': '[PAD]', 'cls_token': '[CLS]', 'mask_token': '[MASK]'}, clean_up_tokenization_spaces=False),  added_tokens_decoder={\n",
       "\t0: AddedToken(\"[PAD]\", rstrip=False, lstrip=False, single_word=False, normalized=False, special=True),\n",
       "\t100: AddedToken(\"[UNK]\", rstrip=False, lstrip=False, single_word=False, normalized=False, special=True),\n",
       "\t101: AddedToken(\"[CLS]\", rstrip=False, lstrip=False, single_word=False, normalized=False, special=True),\n",
       "\t102: AddedToken(\"[SEP]\", rstrip=False, lstrip=False, single_word=False, normalized=False, special=True),\n",
       "\t103: AddedToken(\"[MASK]\", rstrip=False, lstrip=False, single_word=False, normalized=False, special=True),\n",
       "}"
      ]
     },
     "execution_count": 42,
     "metadata": {},
     "output_type": "execute_result"
    }
   ],
   "source": [
    "# vocab_szie: 30522 > 105879\n",
    "# model_max_length: 512\n",
    "multilingual_tokenizer"
   ]
  },
  {
   "cell_type": "code",
   "execution_count": 43,
   "metadata": {},
   "outputs": [
    {
     "data": {
      "text/plain": [
       "'[CLS] [UNK] [UNK] [UNK] [UNK] [UNK] [UNK] [UNK] [UNK] [UNK] 傕 [SEP] [PAD] [PAD] [PAD] [PAD] [PAD] [PAD] [PAD] [PAD]'"
      ]
     },
     "execution_count": 43,
     "metadata": {},
     "output_type": "execute_result"
    }
   ],
   "source": [
    "# 將原始文字轉換成標記\n",
    "multilingual_inputs = tokenizer(\n",
    "  raw_inputs,\n",
    "  padding=True,         # Activates and controls padding\n",
    "  truncation=True,      # Activates and controls truncation\n",
    "  return_tensors=\"pt\",  # Return PyTorch tensor objects\n",
    ")\n",
    "# 將標記轉換回文字\n",
    "multilingual_tokenizer.decode(multilingual_inputs[\"input_ids\"][1])"
   ]
  },
  {
   "cell_type": "markdown",
   "metadata": {},
   "source": [
    "## Input Embedding\n",
    "\n",
    "Transformer 架構首先是 Input Embedding 層，它將輸入序列轉換為維度 $\\ d_{model} = 512 $ 的向量。\n",
    "\n",
    "![Input Embedding](https://www.alexisalulema.com/wp-content/uploads/2022/08/input.embedding.png)\n",
    "\n",
    "> $\\ d_{model} = 512 $ 的值是由架構設計者設定的，這個維度的值可以根據目標進行修改。"
   ]
  },
  {
   "cell_type": "markdown",
   "metadata": {},
   "source": [
    "### 分詞器 (Tokenizer)\n",
    "\n",
    "Embedding 從分詞後的文本中獲取數據。對於每個詞，生成一個大小為 $\\ d_{model} = 512 $ 的向量。對於意思接近的詞，Embedding 向量應該是相似的。\n",
    "\n",
    "透過一個小實驗來驗證這個假設：\n",
    "\n",
    "我們給定一句範例文本，包含多語義的文字 `bank`，這個詞有兩種不同的意思：\n",
    "\n",
    "```\n",
    "After stealing money from the bank vault, the bank robber was seen\n",
    "fishing on the Mississippi river bank.\n",
    "```"
   ]
  },
  {
   "cell_type": "code",
   "execution_count": 44,
   "metadata": {},
   "outputs": [],
   "source": [
    "# 給定一句範例文本，包含多語義的文字 'bank'\n",
    "text = '''\n",
    "After stealing money from the bank vault, the bank robber was seen\n",
    "fishing on the Mississippi river bank.\n",
    "'''\n",
    "\n",
    "# 將原始文字轉換成標記\n",
    "tokenized_inputs = tokenizer(\n",
    "    text,\n",
    "    padding=True,\n",
    "    truncation=True,\n",
    "    return_tensors=\"pt\"\n",
    ")"
   ]
  },
  {
   "cell_type": "markdown",
   "metadata": {},
   "source": [
    "將標記轉換回原始文本，我們可以看到 `bank` 這個詞在兩個不同的上下文中卻有相同的標記。請注意，這裡的 token id 是對應到 vocab 的 index，此時 `bank` 這個字具有相同的 token id。"
   ]
  },
  {
   "cell_type": "code",
   "execution_count": 45,
   "metadata": {},
   "outputs": [
    {
     "name": "stdout",
     "output_type": "stream",
     "text": [
      "'[CLS]           101'\n",
      "'after         2,044'\n",
      "'stealing     11,065'\n",
      "'money         2,769'\n",
      "'from          2,013'\n",
      "'the           1,996'\n",
      "'bank          2,924'\n",
      "'vault        11,632'\n",
      "',             1,010'\n",
      "'the           1,996'\n",
      "'bank          2,924'\n",
      "'robber       27,307'\n",
      "'was           2,001'\n",
      "'seen          2,464'\n",
      "'fishing       5,645'\n",
      "'on            2,006'\n",
      "'the           1,996'\n",
      "'mississippi   5,900'\n",
      "'river         2,314'\n",
      "'bank          2,924'\n",
      "'.             1,012'\n",
      "'[SEP]           102'\n"
     ]
    }
   ],
   "source": [
    "# Display the words with their indeces.\n",
    "for id in tokenized_inputs[\"input_ids\"][0]:\n",
    "    pprint('{:<12} {:>6,}'.format(tokenizer.decode(id), id))"
   ]
  },
  {
   "cell_type": "markdown",
   "metadata": {},
   "source": [
    "此刻，我們已經將原始文本轉換為標記，總計有 22 個標記。這些標記將被送入 Embedding 層。"
   ]
  },
  {
   "cell_type": "code",
   "execution_count": 46,
   "metadata": {},
   "outputs": [
    {
     "data": {
      "text/plain": [
       "22"
      ]
     },
     "execution_count": 46,
     "metadata": {},
     "output_type": "execute_result"
    }
   ],
   "source": [
    "len(tokenized_inputs[\"input_ids\"][0])"
   ]
  },
  {
   "cell_type": "markdown",
   "metadata": {},
   "source": [
    "### 隱藏狀態（Hidden States）\n",
    "\n",
    "為了方便我們深入觀察模型，我們透過 `output_hidden_states=True` 參數來獲取模型的隱藏狀態（hidden states），隱藏狀態是模型在每一層計算出的中間表示。"
   ]
  },
  {
   "cell_type": "code",
   "execution_count": 47,
   "metadata": {},
   "outputs": [
    {
     "data": {
      "text/plain": [
       "BertModel(\n",
       "  (embeddings): BertEmbeddings(\n",
       "    (word_embeddings): Embedding(105879, 768, padding_idx=0)\n",
       "    (position_embeddings): Embedding(512, 768)\n",
       "    (token_type_embeddings): Embedding(2, 768)\n",
       "    (LayerNorm): LayerNorm((768,), eps=1e-12, elementwise_affine=True)\n",
       "    (dropout): Dropout(p=0.1, inplace=False)\n",
       "  )\n",
       "  (encoder): BertEncoder(\n",
       "    (layer): ModuleList(\n",
       "      (0-11): 12 x BertLayer(\n",
       "        (attention): BertAttention(\n",
       "          (self): BertSdpaSelfAttention(\n",
       "            (query): Linear(in_features=768, out_features=768, bias=True)\n",
       "            (key): Linear(in_features=768, out_features=768, bias=True)\n",
       "            (value): Linear(in_features=768, out_features=768, bias=True)\n",
       "            (dropout): Dropout(p=0.1, inplace=False)\n",
       "          )\n",
       "          (output): BertSelfOutput(\n",
       "            (dense): Linear(in_features=768, out_features=768, bias=True)\n",
       "            (LayerNorm): LayerNorm((768,), eps=1e-12, elementwise_affine=True)\n",
       "            (dropout): Dropout(p=0.1, inplace=False)\n",
       "          )\n",
       "        )\n",
       "        (intermediate): BertIntermediate(\n",
       "          (dense): Linear(in_features=768, out_features=3072, bias=True)\n",
       "          (intermediate_act_fn): GELUActivation()\n",
       "        )\n",
       "        (output): BertOutput(\n",
       "          (dense): Linear(in_features=3072, out_features=768, bias=True)\n",
       "          (LayerNorm): LayerNorm((768,), eps=1e-12, elementwise_affine=True)\n",
       "          (dropout): Dropout(p=0.1, inplace=False)\n",
       "        )\n",
       "      )\n",
       "    )\n",
       "  )\n",
       "  (pooler): BertPooler(\n",
       "    (dense): Linear(in_features=768, out_features=768, bias=True)\n",
       "    (activation): Tanh()\n",
       "  )\n",
       ")"
      ]
     },
     "execution_count": 47,
     "metadata": {},
     "output_type": "execute_result"
    }
   ],
   "source": [
    "from transformers import AutoModel\n",
    "\n",
    "# 載入 BERT model\n",
    "model = AutoModel.from_pretrained(\n",
    "  model_name,\n",
    "  output_hidden_states=True,  # Whether the model returns all hidden-states.\n",
    ")\n",
    "\n",
    "# 這個 model 有 12 層的 transformer blocks, 及第一層的 embedding 層, 共 13 層\n",
    "model"
   ]
  },
  {
   "cell_type": "markdown",
   "metadata": {},
   "source": [
    "以下程式碼使用 BERT 模型處理文本，並收集所有層生成的隱藏狀態。這樣可以幫助我們了解模型的結構和輸出數據的維度。\n",
    "\n",
    "使用 `torch.no_grad()` 禁用梯度計算，這樣可以節省內存並加快計算速度，因為我們只需要前向傳播的結果。"
   ]
  },
  {
   "cell_type": "code",
   "execution_count": 48,
   "metadata": {},
   "outputs": [],
   "source": [
    "import torch\n",
    "\n",
    "# Run the text through BERT, and collect all of the hidden states produced from all 12 layers.\n",
    "with torch.no_grad():\n",
    "    outputs = model(**tokenized_inputs)\n",
    "    hidden_states = outputs.hidden_states"
   ]
  },
  {
   "cell_type": "code",
   "execution_count": 49,
   "metadata": {},
   "outputs": [
    {
     "name": "stdout",
     "output_type": "stream",
     "text": [
      "'Number of layers: 13 (initial embeddings + 12 BERT layers)'\n"
     ]
    }
   ],
   "source": [
    "n_hidden_states = len(hidden_states)\n",
    "pprint(f\"Number of layers: {n_hidden_states} (initial embeddings + 12 BERT layers)\")"
   ]
  },
  {
   "cell_type": "markdown",
   "metadata": {},
   "source": [
    "根據[文件](https://huggingface.co/docs/transformers/model_doc/bert#transformers.BertModel)，每一層的隱藏狀態的維度是 `(batch_size, sequence_length, hidden_size)`，其中 `hidden_size` 是模型的維度，這裡是 768。"
   ]
  },
  {
   "cell_type": "code",
   "execution_count": 50,
   "metadata": {},
   "outputs": [
    {
     "data": {
      "text/plain": [
       "torch.Size([1, 22, 768])"
      ]
     },
     "execution_count": 50,
     "metadata": {},
     "output_type": "execute_result"
    }
   ],
   "source": [
    "# 每一層的張量的尺寸（shape）\n",
    "hidden_states[0].size()"
   ]
  },
  {
   "cell_type": "markdown",
   "metadata": {},
   "source": [
    "這個模型的完整隱藏狀態集，存儲在 `hidden_states` 物件中，這個物件有四個維度，順序如下：\n",
    "\n",
    "1. 層數（13 層）\n",
    "2. 批次數（1 句話）\n",
    "3. 詞/標記 (Token) 數（我們句子中的 22 個 Token）\n",
    "4. 隱藏單元/特徵數（768 個特徵）"
   ]
  },
  {
   "cell_type": "code",
   "execution_count": 51,
   "metadata": {},
   "outputs": [
    {
     "name": "stdout",
     "output_type": "stream",
     "text": [
      "'Number of values: 219648'\n"
     ]
    }
   ],
   "source": [
    "n_batches = hidden_states[0].size(0)\n",
    "n_tokens = hidden_states[0].size(1)\n",
    "n_hidden_units = hidden_states[0].size(2)\n",
    "\n",
    "pprint(f\"Number of values: {n_hidden_states * n_batches * n_tokens * n_hidden_units}\")"
   ]
  },
  {
   "cell_type": "markdown",
   "metadata": {},
   "source": [
    "僅僅為了表示我們的一句話，就需要 219,648 個數值！"
   ]
  },
  {
   "cell_type": "markdown",
   "metadata": {},
   "source": [
    "### 詞嵌入 (Word Embedding)\n",
    "\n",
    "由於回傳的是 13 層的張量 `(batch_size, sequence_length, hidden_size)`，我們可以將這些層的張量透過 `torch.stack()` 連接起來，並創建一個新的維度來表示這些層。這樣我們就可以看到每個詞的所有層的隱藏狀態。"
   ]
  },
  {
   "cell_type": "code",
   "execution_count": 52,
   "metadata": {},
   "outputs": [
    {
     "data": {
      "text/plain": [
       "torch.Size([13, 1, 22, 768])"
      ]
     },
     "execution_count": 52,
     "metadata": {},
     "output_type": "execute_result"
    }
   ],
   "source": [
    "# 透過 torch.stack 將 13 層張量串接在一起，並在第 0 維度（dim=0）上\n",
    "token_embeddings = torch.stack(hidden_states, dim=0)\n",
    "\n",
    "# 新的張量的尺寸（shape）\n",
    "token_embeddings.size()"
   ]
  },
  {
   "cell_type": "markdown",
   "metadata": {},
   "source": [
    "移除 `token_embeddings` 張量中指定維度 `dim=1` 的單維度。相當於移除第一個維度的 `batch_size`。"
   ]
  },
  {
   "cell_type": "code",
   "execution_count": 53,
   "metadata": {},
   "outputs": [
    {
     "data": {
      "text/plain": [
       "torch.Size([13, 22, 768])"
      ]
     },
     "execution_count": 53,
     "metadata": {},
     "output_type": "execute_result"
    }
   ],
   "source": [
    "# Let’s get rid of the “batches” dimension since we don’t need it.\n",
    "# Remove dimension 1, the \"batches\".\n",
    "token_embeddings = torch.squeeze(token_embeddings, dim=1)\n",
    "\n",
    "# 新的張量的尺寸（shape）\n",
    "token_embeddings.size()"
   ]
  },
  {
   "cell_type": "markdown",
   "metadata": {},
   "source": [
    "我們想要計算出每個詞的所有層的隱藏狀態，所以我們需要將 `token_embeddings` 張量的維度重新排列，使得每個詞的所有層的隱藏狀態都在同一個維度中。"
   ]
  },
  {
   "cell_type": "code",
   "execution_count": 54,
   "metadata": {},
   "outputs": [
    {
     "data": {
      "text/plain": [
       "torch.Size([22, 13, 768])"
      ]
     },
     "execution_count": 54,
     "metadata": {},
     "output_type": "execute_result"
    }
   ],
   "source": [
    "# Current dimensions: [# layers, # tokens, # features]\n",
    "# Desired dimensions: [# tokens, # layers, # features]\n",
    "\n",
    "# Swap dimensions 0 and 1.\n",
    "token_embeddings = token_embeddings.permute(1,0,2)\n",
    "\n",
    "token_embeddings.size()"
   ]
  },
  {
   "cell_type": "markdown",
   "metadata": {},
   "source": [
    "現在，我們該如何處理這些隱藏狀態呢？我們希望為每個標記 (Token) 獲取單獨的向量，但對於我們的每個輸入標記 (Token)，我們有 13 個長度為 768 的單獨向量。\n",
    "\n",
    "為了獲取單獨的向量，我們需要結合一些層向量，但是哪一層或哪幾層的組合能提供最佳表示呢？\n",
    "\n",
    "不幸的是，沒有一個簡單的答案，不過讓我們嘗試通過將最後四層相加來創建詞向量，為每個標記 (Token) 生成一個詞向量。\n",
    "\n",
    "每個向量的長度將是維持長度 768。"
   ]
  },
  {
   "cell_type": "code",
   "execution_count": 55,
   "metadata": {},
   "outputs": [
    {
     "name": "stdout",
     "output_type": "stream",
     "text": [
      "'Shape is: 22 x 768'\n"
     ]
    }
   ],
   "source": [
    "# Stores the token vectors, with shape [22 x 768]\n",
    "token_vecs_sum = []\n",
    "\n",
    "# 'token_embeddings' is a [22 x 13 x 768] tensor.\n",
    "\n",
    "# For each token in the sentence...\n",
    "for token in token_embeddings:\n",
    "\n",
    "    # 'token' is a [13 x 768] tensor\n",
    "\n",
    "    # Sum the vectors from the last four layers.\n",
    "    sum_vec = torch.sum(token[-4:], dim=0)\n",
    "\n",
    "    # Use 'sum_vec' to represent 'token'.\n",
    "    token_vecs_sum.append(sum_vec)\n",
    "\n",
    "pprint(f'Shape is: {len(token_vecs_sum)} x {len(token_vecs_sum[0])}')"
   ]
  },
  {
   "cell_type": "markdown",
   "metadata": {},
   "source": [
    "為了確認這些向量的值確實是依賴於上下文的，讓我們看看在我們示例句子中「bank」這個詞的不同實例：\n",
    "\n",
    "「After stealing money from the *bank vault*, the *bank robber* was seen fishing on the Mississippi *river bank*.」\n",
    "\n",
    "讓我們找出這個示例句子中三個「bank」實例的索引。"
   ]
  },
  {
   "cell_type": "code",
   "execution_count": 56,
   "metadata": {},
   "outputs": [
    {
     "name": "stdout",
     "output_type": "stream",
     "text": [
      "'0 [CLS]'\n",
      "'1 after'\n",
      "'2 stealing'\n",
      "'3 money'\n",
      "'4 from'\n",
      "'5 the'\n",
      "'6 bank'\n",
      "'7 vault'\n",
      "'8 ,'\n",
      "'9 the'\n",
      "'10 bank'\n",
      "'11 robber'\n",
      "'12 was'\n",
      "'13 seen'\n",
      "'14 fishing'\n",
      "'15 on'\n",
      "'16 the'\n",
      "'17 mississippi'\n",
      "'18 river'\n",
      "'19 bank'\n",
      "'20 .'\n",
      "'21 [SEP]'\n"
     ]
    }
   ],
   "source": [
    "for i, id in enumerate(tokenized_inputs[\"input_ids\"][0]):\n",
    "    pprint(f'{i} {tokenizer.decode(id)}')"
   ]
  },
  {
   "cell_type": "markdown",
   "metadata": {},
   "source": [
    "分別坐落在第 6, 10, 19 個標記位置。"
   ]
  },
  {
   "cell_type": "code",
   "execution_count": 57,
   "metadata": {},
   "outputs": [
    {
     "name": "stdout",
     "output_type": "stream",
     "text": [
      "'First 6 vector values for each instance of \"bank\".'\n",
      "''\n",
      "'bank vault  tensor([ 1.9346,  1.7786,  2.5095,  0.0338, -1.0880, -0.3089])'\n",
      "'bank robber tensor([-0.1687,  1.3765,  2.5958,  0.5758, -1.9220,  0.6940])'\n",
      "'river bank  tensor([ 0.6635,  1.5705,  0.2651,  0.2089, -0.9681,  1.2516])'\n"
     ]
    }
   ],
   "source": [
    "\n",
    "# We can try printing out their vectors to compare them.\n",
    "pprint('First 6 vector values for each instance of \"bank\".')\n",
    "pprint('')\n",
    "pprint(f\"bank vault  {token_vecs_sum[6][:6]}\")\n",
    "pprint(f\"bank robber {token_vecs_sum[10][:6]}\")\n",
    "pprint(f\"river bank  {token_vecs_sum[19][:6]}\")\n"
   ]
  },
  {
   "cell_type": "markdown",
   "metadata": {},
   "source": [
    "我們可以看到這些值有所不同，但讓我們計算向量之間的餘弦相似度來進行更精確的比較。\n",
    "\n",
    "餘弦相似度測量高維空間中兩個向量之間的角度的餘弦值。它的取值範圍在 -1 和 1 之間，1 表示兩個向量是相同的，0 表示它們是正交的（即，它們之間沒有相關性）。"
   ]
  },
  {
   "cell_type": "code",
   "execution_count": 58,
   "metadata": {},
   "outputs": [
    {
     "name": "stdout",
     "output_type": "stream",
     "text": [
      "'Vector similarity for  *similar*  meanings:  0.91'\n"
     ]
    }
   ],
   "source": [
    "from scipy.spatial.distance import cosine\n",
    "\n",
    "# 比較 'bank robber' 與 'bank vault' 的相似度\n",
    "same_bank = 1 - cosine(token_vecs_sum[10], token_vecs_sum[6])\n",
    "pprint('Vector similarity for  *similar*  meanings:  %.2f' % same_bank)"
   ]
  },
  {
   "cell_type": "code",
   "execution_count": 59,
   "metadata": {},
   "outputs": [
    {
     "name": "stdout",
     "output_type": "stream",
     "text": [
      "'Vector similarity for *different* meanings:  0.84'\n"
     ]
    }
   ],
   "source": [
    "# 比較 'bank robber' 與 'river bank' 的相似度\n",
    "diff_bank = 1 - cosine(token_vecs_sum[10], token_vecs_sum[19])\n",
    "pprint('Vector similarity for *different* meanings:  %.2f' % diff_bank)"
   ]
  },
  {
   "cell_type": "markdown",
   "metadata": {},
   "source": [
    "透過這個小實驗我們觀察到\n",
    "\n",
    "1. 分詞器 (Tokenizer) 會將相同的詞轉換為相同的標記 (Token)，這是因為字典是固定的。\n",
    "2. Embedding 層會為每個標記生成一個向量；對於意思相近的詞，Embedding 向量應該是相似的。"
   ]
  },
  {
   "cell_type": "markdown",
   "metadata": {},
   "source": [
    "## Positional Encoding (PE)\n",
    "\n",
    "![](https://www.alexisalulema.com/wp-content/uploads/2022/08/positional.encoding.png)\n",
    "\n",
    "Embedding 向量為 Transformer 提供了大量有關序列中詞語之間關係的信息。然而，仍然需要信息來指示詞語在序列中的位置，這就是位置編碼 (Positional Encoding) 過程的用途。\n",
    "\n",
    "初始序列中的每個詞都必須具有位置編碼（PE）信息，但由於 Transformer 的主要重點是注意力機制，因此這個向量的生成必須簡單。\n",
    "\n",
    "這項任務的挑戰在於為位置編碼函數的每個輸出向量生成一個維度為 $\\ d_{model} = 512 $ 的向量。架構的作者找到了一種巧妙的方法，使用正弦和餘弦值表示位置編碼。\n",
    "\n",
    "$\\ PE_{\\text{sin}}(\\text{pos}, 2i) = \\sin\\left(\\frac{\\text{pos}}{10000^{\\frac{2i}{d_{\\text{model}}}}}\\right) $\n",
    "\n",
    "$\\ PE_{\\text{cos}}(\\text{pos}, 2i+1) = \\cos\\left(\\frac{\\text{pos}}{10000^{\\frac{2i}{d_{\\text{model}}}}}\\right) $"
   ]
  },
  {
   "cell_type": "code",
   "execution_count": 60,
   "metadata": {},
   "outputs": [
    {
     "name": "stdout",
     "output_type": "stream",
     "text": [
      "[0.1411200080598672, -0.9899924966004454, 0.34278182124536544, -0.9394150430048,\n",
      " 0.517305716423722, -0.8558006752482378, 0.6624361227092077,\n",
      " -0.7491184040790825, 0.7782725224195125, -0.6279266524418035,\n",
      " 0.8664767242753264, -0.4992174739420687, 0.9296448405538298,\n",
      " -0.3684568773026832, 0.9708383734915317, -0.23973496314955228,\n",
      " 0.993253167134793, -0.11596614150993839, 0.9999995959150344,\n",
      " 0.0008989826293240337, 0.9939677561484435, 0.10967269367180021,\n",
      " 0.9777546365250185, 0.2097519266987291, 0.9536344621455892, 0.3009672949147346,\n",
      " 0.9235576307533468, 0.38345964934692234, 0.8891674026610501,\n",
      " 0.45758204733687047, 0.8518265889844492, 0.5238238848116019,\n",
      " 0.8126488966420368, 0.5827536107022249, 0.7725314052467654, 0.6349765569747106,\n",
      " 0.732185972853175, 0.6811047651845122, 0.692168299382709, 0.7217361327588141,\n",
      " 0.652904012444876, 0.7574406580936761, 0.614711558412838, 0.7887519888746146,\n",
      " 0.5778219439143785, 0.8161628520895868, 0.542395526623231, 0.8401232604202243,\n",
      " 0.5085361344196324, 0.8610406494408598, 0.4763028239668486, 0.8792813087295813,\n",
      " 0.44571959141992545, 0.8951726346490126, 0.4167833316987244,\n",
      " 0.9090058604971208, 0.38947031683720607, 0.9210390177960575,\n",
      " 0.36374143380314006, 0.9314999567014676, 0.3395463912913619,\n",
      " 0.9405893089765657, 0.31682707537387206, 0.9484833178870563,\n",
      " 0.29552020666133955, 0.955336489125606, 0.2755594273095437, 0.9612840381598128,\n",
      " 0.25687692492720693, 0.9664441243237718, 0.239404682116363, 0.9709198721731692,\n",
      " 0.22307542478359724, 0.9748011873493064, 0.2078233292199113,\n",
      " 0.9781663783998877, 0.19358453695898567, 0.9810835984004498,\n",
      " 0.1802975172944313, 0.983612121345332, 0.16790330979242943, 0.9858034685274482,\n",
      " 0.1563456729301244, 0.9877023997925826, 0.1455711599049229, 0.9893477838474878,\n",
      " 0.1355291385073455, 0.9907733608729379, 0.12617176856958728,\n",
      " 0.9920084096498489, 0.11745394775759667, 0.9930783303225158,\n",
      " 0.10933323425233667, 0.9940051528477726, 0.10176975307100948,\n",
      " 0.9948079801448447, 0.09472609133274612, 0.9955033739876628, 0.088167186610693,\n",
      " 0.9961056907804288, 0.08206021158024196, 0.9966273735330602,\n",
      " 0.07637445742766363, 0.9970792056063701, 0.07108121788893032,\n",
      " 0.9974705311253192, 0.0661536753159646, 0.9978094463584668,\n",
      " 0.06156678979327108, 0.9981029658279507, 0.05729719203269165,\n",
      " 0.998357166441534, 0.05332308054230592, 0.9985773125209078,\n",
      " 0.04962412338467775, 0.9987679642330857, 0.046181364699546944,\n",
      " 0.9989330716091481, 0.04297713605846229, 0.9990760560518966,\n",
      " 0.039994972637127126, 0.99919988098666, 0.03721953413004681,\n",
      " 0.9993071130934384, 0.03463653028714342, 0.9993999753700556, 0.032232650919894,\n",
      " 0.9994803931116789, 0.02999550020249566, 0.9995500337489875,\n",
      " 0.027913535079354113, 0.9996103413627601, 0.025976007582069204,\n",
      " 0.9996625665843931, 0.02417291085564115, 0.9997077924977704,\n",
      " 0.02249492869372799, 0.9997469570761714, 0.020933388385557663,\n",
      " 0.9997808726169447, 0.019480216681835045, 0.9998102425750742,\n",
      " 0.018127898693131073, 0.9998356761433208, 0.016869439541363287,\n",
      " 0.9998577008802604, 0.01569832859273467, 0.9998767736473303,\n",
      " 0.014608506108628055, 0.9998932900811337, 0.013594332159253698,\n",
      " 0.9999075927970263, 0.01265055765316364, 0.9999199784938113,\n",
      " 0.011772297343962403, 0.9999307041066623, 0.0109550046835738,\n",
      " 0.9999399921357196, 0.010194448399206189, 0.9999480352607509,\n",
      " 0.00948669067865079, 0.999955000337499, 0.008828066855721049,\n",
      " 0.9999610318585375, 0.008215166494478728, 0.9999662549503698,\n",
      " 0.007644815777386149, 0.9999707779689013, 0.007114061108672371,\n",
      " 0.9999746947470931, 0.006620153850007463, 0.9999780865414013,\n",
      " 0.0061605361110508355, 0.9999810237173625, 0.005732827522586607,\n",
      " 0.9999835672092798, 0.005334812924793146, 0.9999857697842792,\n",
      " 0.004964430907728304, 0.9999876771369547, 0.004619763145360285,\n",
      " 0.9999893288373035, 0.004299024468450832, 0.9999907591516132,\n",
      " 0.004000553625316836, 0.9999919977533275, 0.00372280468297273,\n",
      " 0.9999930703386362, 0.0034643390244031656, 0.999993999159557,\n",
      " 0.003223817900746931, 0.9999948034855696, 0.002999995500002025,\n",
      " 0.999995500003375, 0.002791712496500665, 0.9999961031630757,\n",
      " 0.0025978900478638403, 0.9999966254779559, 0.0024175242084391174,\n",
      " 0.9999970777840811, 0.002249680730363582, 0.9999974694651039,\n",
      " 0.0020934902253861858, 0.9999978086469371, 0.0019481436624400321,\n",
      " 0.9999981023663348, 0.0018128881776842307, 0.9999983567168774,\n",
      " 0.0016870231753454267, 0.9999985769753904, 0.001569896699188907,\n",
      " 0.9999987677114177, 0.0014609020558457519, 0.9999989328820222,\n",
      " 0.0013594746725228656, 0.9999990759138804, 0.0012650891728333796,\n",
      " 0.9999991997743722, 0.0011772566556120041, 0.9999993070331433,\n",
      " 0.0010955221626291398, 0.9999993999154155, 0.0010194623220942378,\n",
      " 0.9999994803481519, 0.0009486831557480254, 0.9999995500000337,\n",
      " 0.0008828180381894353, 0.9999996103160798, 0.0008215257978706854,\n",
      " 0.9999996625476247, 0.0007644889499270367, 0.9999997077782801,\n",
      " 0.0007114120516900337, 0.9999997469464144, 0.0006620201723680257,\n",
      " 0.9999997808646217, 0.0006160574689687499, 0.9999998102365795,\n",
      " 0.0005732858610887564, 0.9999998356716472, 0.0005334837977063175,\n",
      " 0.9999998576975087, 0.0004964451095908284, 0.999999876771119,\n",
      " 0.00046197794138501207, 0.9999998932881852, 0.00042990375782881666,\n",
      " 0.9999999075913752, 0.0004000564189778156, 0.9999999199774277,\n",
      " 0.0003722813196262275, 0.9999999307033072, 0.00034643458847716816,\n",
      " 0.9999999399915361, 0.0003223823429121754, 0.9999999480348112, 0.0002999999955,\n",
      " 0.9999999550000004, 0.0002791716086526199, 0.9999999610316057,\n",
      " 0.0002597892940858023, 0.9999999662547607, 0.00024175265397359855,\n",
      " 0.9999999707778268, 0.00022496826090210247, 0.9999999746946405,\n",
      " 0.00020934917392876617, 0.9999999780864615, 0.00019481448824057457,\n",
      " 0.9999999810236574, 0.0001812889160784095, 0.9999999835671644,\n",
      " 0.000168702396756879, 0.9999999857697506, 0.00015698973375959276,\n",
      " 0.9999999876771116, 0.00014609025703010706, 0.9999999893288184,\n",
      " 0.00013594750870926713, 0.9999999907591374, 0.0001265089506911223,\n",
      " 0.9999999919977427, 0.0001177256924826027, 0.9999999930703306,\n",
      " 0.00010955223795731592, 0.9999999939991535, 0.00010194624969168824,\n",
      " 0.9999999948034811, 9.486832966274888e-05, 0.9999999955, 8.82818151716051e-05,\n",
      " 0.9999999961031606, 8.215258893552221e-05, 0.999999996625476,\n",
      " 7.644890236491362e-05, 0.9999999970777826, 7.11412111098412e-05,\n",
      " 0.999999997469464, 6.620202202418035e-05, 0.9999999978086461,\n",
      " 6.160575075474599e-05, 0.9999999981023657, 5.732858921771084e-05,\n",
      " 0.9999999983567164, 5.3348382275862324e-05, 0.9999999985769751,\n",
      " 4.9644512977903314e-05, 0.9999999987677112, 4.619779576535192e-05,\n",
      " 0.9999999989328818, 4.299037709386661e-05, 0.9999999990759137,\n",
      " 4.000564295422854e-05, 0.9999999991997742, 3.7228132813952304e-05,\n",
      " 0.9999999993070331, 3.4643459533754074e-05, 0.9999999993999154,\n",
      " 3.223823484405531e-05, 0.9999999994803481, 2.99999999955e-05, 0.99999999955,\n",
      " 2.791716122426468e-05, 0.999999999610316, 2.5978929697879745e-05,\n",
      " 0.9999999996625476, 2.4175265630489608e-05, 0.9999999997077783,\n",
      " 2.249682627807604e-05, 0.9999999997469464, 2.09349175442668e-05,\n",
      " 0.9999999997808646, 1.948144894605405e-05, 0.9999999998102366,\n",
      " 1.8128891706150955e-05, 0.9999999998356717, 1.6870239754910247e-05,\n",
      " 0.9999999998576975, 1.5698973439799984e-05, 0.9999999998767711,\n",
      " 1.4609025754456241e-05, 0.9999999998932881, 1.3594750912383696e-05,\n",
      " 0.9999999999075914, 1.2650895102520014e-05, 0.9999999999199775,\n",
      " 1.1772569275181674e-05, 0.9999999999307033, 1.0955223817425996e-05,\n",
      " 0.9999999999399916, 1.019462498665109e-05, 0.9999999999480348,\n",
      " 9.486832980362836e-06, 0.999999999955, 8.828181528513173e-06,\n",
      " 0.9999999999610316, 8.215258902700675e-06, 0.9999999999662548,\n",
      " 7.644890243863574e-06, 0.9999999999707778, 7.114121116924958e-06,\n",
      " 0.9999999999746947, 6.620202207205413e-06, 0.9999999999780864,\n",
      " 6.16057507933247e-06, 0.9999999999810236, 5.732858924879919e-06,\n",
      " 0.9999999999835671, 5.334838230091463e-06, 0.9999999999857697,\n",
      " 4.964451299809152e-06, 0.9999999999876771, 4.619779578162044e-06,\n",
      " 0.9999999999893289, 4.299037710697646e-06, 0.9999999999907592,\n",
      " 4.000564296479301e-06, 0.9999999999919977, 3.7228132822465593e-06,\n",
      " 0.9999999999930703, 3.464345954061445e-06, 0.9999999999939991,\n",
      " 3.2238234849583687e-06, 0.9999999999948035, 2.9999999999955002e-06,\n",
      " 0.9999999999955, 2.7917161227854707e-06, 0.9999999999961031,\n",
      " 2.5978929700772734e-06, 0.9999999999966255, 2.417526563282091e-06,\n",
      " 0.9999999999970778, 2.24968262799547e-06, 0.9999999999974695,\n",
      " 2.09349175457807e-06, 0.9999999999978086, 1.9481448947274014e-06,\n",
      " 0.9999999999981024, 1.8128891707134054e-06, 0.9999999999983568,\n",
      " 1.6870239755702469e-06, 0.999999999998577, 1.5698973440438391e-06,\n",
      " 0.9999999999987678, 1.4609025754970696e-06, 0.9999999999989329,\n",
      " 1.3594750912798265e-06, 0.999999999999076, 1.265089510285409e-06,\n",
      " 0.9999999999991998, 1.1772569275450889e-06, 0.999999999999307,\n",
      " 1.095522381764294e-06, 0.9999999999993999, 1.0194624986825913e-06,\n",
      " 0.9999999999994803, 9.486832980503715e-07, 0.99999999999955,\n",
      " 8.8281815286267e-07, 0.9999999999996103, 8.215258902792159e-07,\n",
      " 0.9999999999996625, 7.644890243937295e-07, 0.9999999999997078,\n",
      " 7.114121116984364e-07, 0.999999999999747, 6.620202207253286e-07,\n",
      " 0.9999999999997808, 6.160575079371048e-07, 0.9999999999998103,\n",
      " 5.732858924911006e-07, 0.9999999999998357, 5.334838230116515e-07,\n",
      " 0.9999999999998577, 4.96445129982934e-07, 0.9999999999998768,\n",
      " 4.619779578178312e-07, 0.9999999999998933, 4.2990377107107557e-07,\n",
      " 0.9999999999999076, 4.0005642964898655e-07, 0.99999999999992,\n",
      " 3.7228132822550727e-07, 0.9999999999999307, 3.464345954068305e-07,\n",
      " 0.9999999999999399, 3.223823484963897e-07, 0.999999999999948,\n",
      " 2.999999999999955e-07, 0.999999999999955, 2.791716122789061e-07,\n",
      " 0.999999999999961, 2.597892970080167e-07, 0.9999999999999662,\n",
      " 2.417526563284422e-07, 0.9999999999999708, 2.2496826279973484e-07,\n",
      " 0.9999999999999747, 2.0934917545795837e-07, 0.9999999999999781,\n",
      " 1.9481448947286217e-07, 0.999999999999981, 1.8128891707143883e-07,\n",
      " 0.9999999999999836, 1.6870239755710393e-07, 0.9999999999999858,\n",
      " 1.5698973440444777e-07, 0.9999999999999877, 1.460902575497584e-07,\n",
      " 0.9999999999999893, 1.359475091280241e-07, 0.9999999999999908,\n",
      " 1.2650895102857433e-07, 0.999999999999992, 1.177256927545358e-07,\n",
      " 0.9999999999999931, 1.0955223817645109e-07, 0.999999999999994,\n",
      " 1.0194624986827661e-07, 0.9999999999999948, 9.486832980505124e-08,\n",
      " 0.9999999999999954, 8.828181528627833e-08, 0.9999999999999961,\n",
      " 8.215258902793075e-08, 0.9999999999999967, 7.644890243938032e-08,\n",
      " 0.9999999999999971, 7.114121116984959e-08, 0.9999999999999974,\n",
      " 6.620202207253765e-08, 0.9999999999999978, 6.160575079371434e-08,\n",
      " 0.9999999999999981, 5.7328589249113185e-08, 0.9999999999999983,\n",
      " 5.334838230116766e-08, 0.9999999999999986, 4.964451299829542e-08,\n",
      " 0.9999999999999988, 4.619779578178475e-08, 0.9999999999999989,\n",
      " 4.2990377107108866e-08, 0.9999999999999991, 4.0005642964899705e-08,\n",
      " 0.9999999999999992, 3.722813282255158e-08, 0.9999999999999993,\n",
      " 3.464345954068374e-08, 0.9999999999999994, 3.223823484963952e-08,\n",
      " 0.9999999999999994]\n"
     ]
    }
   ],
   "source": [
    "import math\n",
    "\n",
    "d_model = 512\n",
    "\n",
    "\n",
    "def positional_encoding(position):\n",
    "    pe = [None] * d_model\n",
    "\n",
    "    for i in range(0, d_model, 2):\n",
    "        pe[i] = math.sin(position / (10000 ** ((2 * i) / d_model)))\n",
    "        pe[i + 1] = math.cos(position / (10000 ** ((2 * i) / d_model)))\n",
    "\n",
    "    return pe\n",
    "\n",
    "# 計算第 3 個位置的 positional encoding\n",
    "pprint(positional_encoding(3), compact=True)"
   ]
  },
  {
   "cell_type": "markdown",
   "metadata": {},
   "source": [
    "最後，詞編碼向量應該加到位置編碼向量上，然後將結果輸入到編碼器/解碼器區塊中：\n",
    "\n",
    "$\\ Embedding_{output} = Embedding_{initial} + PE_{word-position} $"
   ]
  }
 ],
 "metadata": {
  "kernelspec": {
   "display_name": "Python 3 (ipykernel)",
   "language": "python",
   "name": "python3"
  },
  "language_info": {
   "codemirror_mode": {
    "name": "ipython",
    "version": 3
   },
   "file_extension": ".py",
   "mimetype": "text/x-python",
   "name": "python",
   "nbconvert_exporter": "python",
   "pygments_lexer": "ipython3",
   "version": "3.11.2"
  }
 },
 "nbformat": 4,
 "nbformat_minor": 2
}
