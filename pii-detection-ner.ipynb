{
 "cells": [
  {
   "cell_type": "code",
   "execution_count": 49,
   "metadata": {
    "metadata": {},
    "vscode": {
     "languageId": "shellscript"
    }
   },
   "outputs": [],
   "source": [
    "# transformers not support NumPy 2.0 yet\n",
    "!pip install -q numpy~=1.26.4 transformers~=4.46.2\n",
    "!pip install -q datasets seqeval matplotlib pydantic"
   ]
  },
  {
   "cell_type": "code",
   "execution_count": 76,
   "metadata": {
    "metadata": {}
   },
   "outputs": [],
   "source": [
    "from tqdm import tqdm\n",
    "import pandas as pd\n",
    "import numpy as np\n",
    "import json\n",
    "\n",
    "from sklearn.model_selection import train_test_split\n",
    "\n",
    "from transformers import AutoTokenizer, AutoModelForTokenClassification, TrainingArguments, Trainer\n",
    "from datasets import load_dataset, DatasetDict\n",
    "from transformers import DataCollatorForTokenClassification\n",
    "from transformers import pipeline\n",
    "from seqeval.metrics import classification_report\n",
    "import matplotlib.pyplot as plt\n",
    "\n",
    "from pydantic import BaseModel\n",
    "from pprint import pprint\n",
    "\n",
    "import torch\n",
    "\n",
    "# 檢查是否有 GPU 可以使用\n",
    "device = torch.device(\"cuda\" if torch.cuda.is_available() else \"cpu\")\n",
    "device = torch.device(\"mps\" if torch.backends.mps.is_available() else device)"
   ]
  },
  {
   "cell_type": "markdown",
   "metadata": {},
   "source": [
    "# Review dataset"
   ]
  },
  {
   "cell_type": "code",
   "execution_count": null,
   "metadata": {
    "metadata": {}
   },
   "outputs": [],
   "source": [
    "# load data from huggingface acram/pii_ner dataset\n",
    "# https://huggingface.co/datasets/acram/pii_ner\n",
    "dataset = load_dataset(\"acram/pii_ner\", trust_remote_code=True)\n",
    "\n",
    "dataset"
   ]
  },
  {
   "cell_type": "code",
   "execution_count": null,
   "metadata": {
    "metadata": {}
   },
   "outputs": [],
   "source": [
    "# print first 5 examples from the dataset\n",
    "pd.set_option('display.max_colwidth', None)\n",
    "pd.DataFrame(dataset['train'].select(range(5)), )"
   ]
  },
  {
   "cell_type": "markdown",
   "metadata": {},
   "source": [
    "# Define BIO (Beginning, Inner, Outer) tagging scheme"
   ]
  },
  {
   "cell_type": "code",
   "execution_count": null,
   "metadata": {
    "metadata": {}
   },
   "outputs": [],
   "source": [
    "# configuration in pydantic model\n",
    "class Config(BaseModel):\n",
    "  seed: int = 42\n",
    "  model_name: str = \"bert-base-cased\" # name of pretrained backbone\n",
    "  train_seq_len: int = 1024 # max size of input sequence for training\n",
    "  train_batch_size: int = 4 # size of the input batch in training\n",
    "  eval_batch_size: int = 4 # size of the input batch in evaluation\n",
    "  epochs: int = 3 # number of epochs to train\n",
    "  lr: float = 2e-5 # learning rate\n",
    "  # BIO (Beginning, Inner, Outer) format labels\n",
    "  labels: list = ['O',\n",
    "                  'B-NAME_STUDENT','I-NAME_STUDENT',\n",
    "                  'B-STREET_ADDRESS','I-STREET_ADDRESS',\n",
    "                  'B-USERNAME','B-EMAIL','B-URL_PERSONAL','B-PHONE_NUM','B-DRIVING_LICENSE',\n",
    "                  'B-PASSPORT','B-PAN_NUMBER','B-ID_NUM','B-AADHAR_ID']\n",
    "  id2label: dict = dict(enumerate(labels)) # integer label to BIO format label mapping\n",
    "  label2id: dict = {v:k for k,v in id2label.items()} # BIO format label to integer label mapping\n",
    "  num_labels: int = len(labels) # number of PII (NER) tags\n",
    "\n",
    "config = Config()\n",
    "# print label2id mapping, and sort by value\n",
    "pprint(sorted(config.label2id.items(), key=lambda x: x[1]))\n"
   ]
  },
  {
   "cell_type": "code",
   "execution_count": null,
   "metadata": {
    "metadata": {}
   },
   "outputs": [],
   "source": [
    "model = \"vblagoje/bert-english-uncased-finetuned-pos\"\n",
    "pos_classifier = pipeline(\n",
    "  task=\"token-classification\",\n",
    "  model=model,\n",
    "  device=device,)\n",
    "pos_classifier(\"My name is Frank, my email is frank@gmail.com.\")"
   ]
  },
  {
   "cell_type": "code",
   "execution_count": null,
   "metadata": {},
   "outputs": [],
   "source": []
  }
 ],
 "metadata": {
  "kernelspec": {
   "display_name": "Python 3 (ipykernel)",
   "language": "python",
   "name": "python3"
  },
  "language_info": {
   "codemirror_mode": {
    "name": "ipython",
    "version": 3
   },
   "file_extension": ".py",
   "mimetype": "text/x-python",
   "name": "python",
   "nbconvert_exporter": "python",
   "pygments_lexer": "ipython3",
   "version": "3.11.2"
  }
 },
 "nbformat": 4,
 "nbformat_minor": 2
}
